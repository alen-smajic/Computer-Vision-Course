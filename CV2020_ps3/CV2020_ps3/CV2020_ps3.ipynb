{
 "cells": [
  {
   "cell_type": "markdown",
   "metadata": {},
   "source": [
    "Alen Smajic (6510387)\n",
    "\n",
    "In this assignmment we will do following things\n",
    "1. Implement simple RNN cell (3 points)\n",
    "2. Implement LSTM cell (3 points)\n",
    "3. Implement LSTM taking inspiration from provided RNN Implementation (2 points)\n",
    "4. Conceptual/Mathematical explanation of how LSTM solve vanishing gradients (2 points)"
   ]
  },
  {
   "cell_type": "markdown",
   "metadata": {},
   "source": [
    "# Imports\n",
    "Please install pytorch and torchvision "
   ]
  },
  {
   "cell_type": "code",
   "execution_count": 1,
   "metadata": {},
   "outputs": [],
   "source": [
    "import torch\n",
    "import torch.nn as nn\n",
    "import torch.nn.functional as F\n",
    "import os\n",
    "import numpy as np\n",
    "import matplotlib\n",
    "import matplotlib.pyplot as plt\n",
    "import torch.optim as optim"
   ]
  },
  {
   "cell_type": "markdown",
   "metadata": {},
   "source": [
    "# Simple RNN cell\n",
    "Here we will write the forward pass for a simple RNN.  PyTorch’s automatic differentiation engine will take care of backward pass for us. We have completed the init function for you.\n",
    "\n",
    "## Exercise 1 : Please fill the forward function of simple RNN Cell"
   ]
  },
  {
   "cell_type": "code",
   "execution_count": 2,
   "metadata": {},
   "outputs": [],
   "source": [
    "class SimpleRNNCell(nn.Module):\n",
    "    def __init__(self, input_dim, hidden_dim):\n",
    "        super(SimpleRNNCell, self).__init__()\n",
    "        \n",
    "        self.weights_x = torch.randn(input_dim, hidden_dim)  # Weights to apply to X (input to RNN)\n",
    "        self.weights_h = torch.randn(hidden_dim, hidden_dim)  # Weights to apply to h (RNN's hidden state)\n",
    "        \n",
    "        self.bias = torch.zeros(1, hidden_dim)  # Bias \n",
    "    \n",
    "    def forward(self, X, h_prev):   \n",
    "        ################################# TODO: Please write the RNN forward pass below ###############\n",
    "        # In the forward function we take X which is of dimension (batch size, input_dim) and multiply it \n",
    "        # by the model weights weights_x. Furthermore, we take the old state of the network h_prev which is\n",
    "        # of dimension (batch size, hidden_dim) and multiply it by the model weights weights_h. Now that we\n",
    "        # have two outputs of dimension (batch size, hidden_dim) we can add them together and additionally \n",
    "        # add the bias which has dimension (1, hidden_dim) and is applied to every row of our output. Finally\n",
    "        # we get our new state h of dimension (batch_size, hidden_dim) after we apply the hyperbolic tangent\n",
    "        # activation function to our output.\n",
    "        h = torch.tanh(torch.mm(X, self.weights_x) + torch.mm(h_prev, self.weights_h) + self.bias)\n",
    "        ###############################################################################################\n",
    "        return h"
   ]
  },
  {
   "cell_type": "markdown",
   "metadata": {},
   "source": [
    "# LSTM cell\n",
    "Here we will write the forward pass for a LSTM.  PyTorch’s automatic differentiation engine will take care of backward pass for us. We have completed the init function  and some part of forward function for you.\n",
    "\n",
    "## Exercise 2 : Please complete the forward function of LSTM Cell"
   ]
  },
  {
   "cell_type": "code",
   "execution_count": 3,
   "metadata": {},
   "outputs": [],
   "source": [
    "class LSTMCell(nn.Module):\n",
    "    def __init__(self, input_dim, hidden_dim):\n",
    "        super(LSTMCell, self).__init__()\n",
    "        \n",
    "        # input gate weights\n",
    "        self.weights_input_Wx = torch.randn(input_dim, hidden_dim)     # Weights to apply to X (input to LSTM)\n",
    "        self.weights_input_Wh = torch.randn(hidden_dim, hidden_dim)    # Weights to apply to h (LSTM's hidden state)\n",
    "        self.bias_input_b = torch.zeros(1, hidden_dim)        \n",
    "        \n",
    "        # forget gate weights \n",
    "        self.weights_forget_Wx = torch.randn(input_dim, hidden_dim)    # Weights to apply to X (input to LSTM)\n",
    "        self.weights_forget_Wh = torch.randn(hidden_dim, hidden_dim)   # Weights to apply to h (LSTM's hidden state)\n",
    "        self.bias_forget_b = torch.zeros(1, hidden_dim)\n",
    "\n",
    "        # cell memory weights\n",
    "        self.weights_cell_Wx = torch.randn(input_dim, hidden_dim)      # Weights to apply to X (input to LSTM)\n",
    "        self.weights_cell_Wh = torch.randn(hidden_dim, hidden_dim)     # Weights to apply to h (LSTM's hidden state)\n",
    "        self.bias_cell_b = torch.zeros(1, hidden_dim)\n",
    "\n",
    "        # output gate weights\n",
    "        self.weights_output_Wx = torch.randn(input_dim, hidden_dim)    # Weights to apply to X (input to LSTM)\n",
    "        self.weights_output_Wh = torch.randn(hidden_dim, hidden_dim)   # Weights to apply to h (LSTM's hidden state)\n",
    "        self.bias_output_b = torch.zeros(1, hidden_dim)\n",
    "    \n",
    "    \n",
    "    def forward(self, X, h_prev, c_prev):        \n",
    "        \n",
    "        # input gate\n",
    "        input_gate = torch.sigmoid(torch.mm(h_prev, self.weights_input_Wh) + \\\n",
    "                                   torch.mm(X, self.weights_input_Wx) + self.bias_input_b)\n",
    "\n",
    "        # forget gate \n",
    "        forget_gate = torch.sigmoid(torch.mm(h_prev, self.weights_forget_Wh) + \\\n",
    "                                    torch.mm(X, self.weights_forget_Wx) + self.bias_forget_b)\n",
    "        \n",
    "        # cell state update\n",
    "        temp_cell_state = torch.tanh(torch.mm(h_prev, self.weights_cell_Wh) + \\\n",
    "                                          torch.mm(X, self.weights_cell_Wx) + self.bias_cell_b) \n",
    "        c = temp_cell_state * input_gate + forget_gate * c_prev\n",
    "        \n",
    "        ################### TODO: Write the update equation for output gate  and hidden state ######################\n",
    "        # The output gate decides which information is being output from the cell state as the new state h. It takes\n",
    "        # the input X and applies the model weights to it. Simillary it takes the old state h_prev and applies the \n",
    "        # model weights to it. At the end it adds these two matrices together and applies the bias term to every \n",
    "        # row. These steps are basically the same as in the simple RNN cell. The only difference is that this time\n",
    "        # we use the sigmoid activation function. Finally, our output_gate should output a matrix of dimension\n",
    "        # (batch size, hidden_dim) which we now elementwise multiply with the cell state. Before we do that we have \n",
    "        # to apply the hyperbolic tangent activation function to the cell state to push the values to be between -1 \n",
    "        # and 1. At the end we return the new state h which contains only the parts of the cell state we decided to.\n",
    "        output_gate = torch.sigmoid(torch.mm(X, self.weights_output_Wx) + torch.mm(h_prev, self.weights_output_Wh) + self.bias_output_b)\n",
    "        h = torch.tanh(c) * output_gate\n",
    "        \n",
    "        ############################################################################################################\n",
    "        \n",
    "        return h, c"
   ]
  },
  {
   "cell_type": "markdown",
   "metadata": {},
   "source": [
    "# SimpleRNN\n",
    "\n",
    "Here we implement a RNN using the RNN cell we defined above. It takes number of time steps as the additional input to generate a sequential output given a sequential input"
   ]
  },
  {
   "cell_type": "code",
   "execution_count": 4,
   "metadata": {},
   "outputs": [],
   "source": [
    "class SimpleRNN(nn.Module):\n",
    "    def __init__(self, batch_size, input_dim, hidden_dim, time_steps):\n",
    "        super(SimpleRNN, self).__init__()\n",
    "        self.time_steps = time_steps\n",
    "        self.rnn = SimpleRNNCell(input_dim, hidden_dim)\n",
    "        self.hx = torch.zeros(batch_size, hidden_dim) # initialize hidden state\n",
    "        \n",
    "        # Initializing RNN weights with Xavier initialization \n",
    "        rnn_params = vars(self.rnn)\n",
    "        for name, param in rnn_params.items():\n",
    "            if \"weights\" in name:\n",
    "                torch.nn.init.xavier_uniform(param)\n",
    "        \n",
    "    def forward(self, X, hx = None):\n",
    "        output = []\n",
    "        if hx is not None:\n",
    "            self.hx = hx\n",
    "            \n",
    "        for i in range(self.time_steps):\n",
    "            self.hx = self.rnn(X[i], self.hx)\n",
    "            output.append(self.hx)\n",
    "        \n",
    "        return output, self.hx"
   ]
  },
  {
   "cell_type": "markdown",
   "metadata": {},
   "source": [
    "# Loading MNIST dataset\n",
    "\n",
    "Here we load MNIST data which we will use to evaluate our RNN"
   ]
  },
  {
   "cell_type": "code",
   "execution_count": 6,
   "metadata": {},
   "outputs": [],
   "source": [
    "import torchvision\n",
    "import torchvision.transforms as transforms\n",
    "\n",
    "BATCH_SIZE = 64\n",
    "\n",
    "# list all transformations\n",
    "transform = transforms.Compose(\n",
    "    [transforms.ToTensor()])\n",
    "\n",
    "# download and load training dataset\n",
    "trainset = torchvision.datasets.MNIST(root='./data', train=True,\n",
    "                                        download=True, transform=transform)\n",
    "trainloader = torch.utils.data.DataLoader(trainset, batch_size=BATCH_SIZE,\n",
    "                                          shuffle=True, num_workers=2)\n",
    "\n",
    "# download and load testing dataset\n",
    "testset = torchvision.datasets.MNIST(root='./data', train=False,\n",
    "                                       download=True, transform=transform)\n",
    "testloader = torch.utils.data.DataLoader(testset, batch_size=BATCH_SIZE,\n",
    "                                         shuffle=False, num_workers=2)"
   ]
  },
  {
   "cell_type": "markdown",
   "metadata": {},
   "source": [
    "# Visualizing the dataset \n",
    "Here we visualize some example images in the dataset"
   ]
  },
  {
   "cell_type": "code",
   "execution_count": 7,
   "metadata": {},
   "outputs": [
    {
     "data": {
      "image/png": "[encoded data removed]",
      "text/plain": [
       "<Figure size 432x288 with 1 Axes>"
      ]
     },
     "metadata": {
      "needs_background": "light"
     },
     "output_type": "display_data"
    }
   ],
   "source": [
    "# functions to show an image\n",
    "def imshow(img):\n",
    "    #img = img / 2 + 0.5     # unnormalize\n",
    "    npimg = img.numpy()\n",
    "    plt.imshow(np.transpose(npimg, (1, 2, 0)))\n",
    "\n",
    "# get some random training images\n",
    "dataiter = iter(trainloader)\n",
    "images, labels = dataiter.next()\n",
    "\n",
    "# show images\n",
    "imshow(torchvision.utils.make_grid(images))"
   ]
  },
  {
   "cell_type": "markdown",
   "metadata": {},
   "source": [
    "# Defining an ImageRNN\n",
    "\n",
    "Here we take a 28 x 28 image as the input. At each time step the RNN looks at one row making a total of 28 timesteps to look at full image. We apply a RNN layer followed by a fully connected layer to do final classification."
   ]
  },
  {
   "cell_type": "code",
   "execution_count": 8,
   "metadata": {},
   "outputs": [],
   "source": [
    "class ImageRNN(nn.Module):\n",
    "    def __init__(self, batch_size, n_steps, input_dim, hidden_dim, output_dim):\n",
    "        super(ImageRNN, self).__init__()\n",
    "        \n",
    "        self.hidden_dim = hidden_dim\n",
    "        self.batch_size = batch_size\n",
    "        self.n_steps = n_steps\n",
    "        self.input_dim = input_dim\n",
    "        self.output_dim = output_dim\n",
    "        \n",
    "        self.basic_rnn = SimpleRNN(self.batch_size,self.input_dim, self.hidden_dim,self.n_steps) \n",
    "        \n",
    "        self.FC = nn.Linear(self.hidden_dim, self.output_dim)\n",
    "        \n",
    "        \n",
    "    def forward(self, X):\n",
    "        # transforms X to dimensions: n_steps X batch_size X n_inputs\n",
    "        X = X.permute(1, 0, 2) \n",
    "        h = torch.zeros(self.batch_size, self.hidden_dim)\n",
    "        self.batch_size = X.size(1)\n",
    "        rnn_out, self.hidden = self.basic_rnn(X, hx= h) \n",
    "        out = self.FC(self.hidden)\n",
    "        \n",
    "        return out.view(-1, self.output_dim) # batch_size X n_output"
   ]
  },
  {
   "cell_type": "markdown",
   "metadata": {},
   "source": [
    "# Training parameters"
   ]
  },
  {
   "cell_type": "code",
   "execution_count": 9,
   "metadata": {},
   "outputs": [],
   "source": [
    "# parameters \n",
    "N_STEPS = 28\n",
    "N_INPUTS = 28\n",
    "N_NEURONS = 150\n",
    "N_OUTPUTS = 10\n",
    "N_EPOCHS = 10"
   ]
  },
  {
   "cell_type": "markdown",
   "metadata": {},
   "source": [
    "# Setting up optimizer and cross entropy loss function"
   ]
  },
  {
   "cell_type": "code",
   "execution_count": 10,
   "metadata": {},
   "outputs": [
    {
     "name": "stderr",
     "output_type": "stream",
     "text": [
      "<ipython-input-4-53908684f1f0>:12: UserWarning: nn.init.xavier_uniform is now deprecated in favor of nn.init.xavier_uniform_.\n",
      "  torch.nn.init.xavier_uniform(param)\n"
     ]
    }
   ],
   "source": [
    "import torch.optim as optim\n",
    "\n",
    "# Device\n",
    "device = torch.device(\"cuda:0\" if torch.cuda.is_available() else \"cpu\")\n",
    "\n",
    "# Model instance\n",
    "model = ImageRNN(BATCH_SIZE, N_STEPS, N_INPUTS, N_NEURONS, N_OUTPUTS)\n",
    "criterion = nn.CrossEntropyLoss()\n",
    "optimizer = optim.Adam(model.parameters(), lr=0.1)\n",
    "\n",
    "def get_accuracy(logit, target, batch_size):\n",
    "    ''' Obtain accuracy for training round '''\n",
    "    corrects = (torch.max(logit, 1)[1].view(target.size()).data == target.data).sum()\n",
    "    accuracy = 100.0 * corrects/batch_size\n",
    "    return accuracy.item()"
   ]
  },
  {
   "cell_type": "markdown",
   "metadata": {},
   "source": [
    "# Training Loop\n",
    "It run for N_EPOCHS and prints training and test accuracy after every epoch"
   ]
  },
  {
   "cell_type": "code",
   "execution_count": 11,
   "metadata": {},
   "outputs": [
    {
     "name": "stdout",
     "output_type": "stream",
     "text": [
      "Epoch:  0 | Loss: 1.1509 | Train Accuracy: 63.53 | Test Accuracy: 64.73\n",
      "Epoch:  1 | Loss: 1.0536 | Train Accuracy: 67.10 | Test Accuracy: 68.26\n",
      "Epoch:  2 | Loss: 1.0356 | Train Accuracy: 67.76 | Test Accuracy: 68.64\n",
      "Epoch:  3 | Loss: 1.0304 | Train Accuracy: 68.05 | Test Accuracy: 70.47\n",
      "Epoch:  4 | Loss: 1.0124 | Train Accuracy: 68.53 | Test Accuracy: 67.24\n",
      "Epoch:  5 | Loss: 1.0139 | Train Accuracy: 68.75 | Test Accuracy: 68.75\n",
      "Epoch:  6 | Loss: 1.0109 | Train Accuracy: 68.71 | Test Accuracy: 69.99\n",
      "Epoch:  7 | Loss: 0.9972 | Train Accuracy: 69.19 | Test Accuracy: 68.89\n",
      "Epoch:  8 | Loss: 1.0018 | Train Accuracy: 69.09 | Test Accuracy: 70.80\n",
      "Epoch:  9 | Loss: 0.9833 | Train Accuracy: 69.46 | Test Accuracy: 69.20\n"
     ]
    }
   ],
   "source": [
    "for epoch in range(N_EPOCHS):  # loop over the dataset multiple times\n",
    "    train_running_loss = 0.0\n",
    "    train_acc = 0.0\n",
    "    model.train()\n",
    "    \n",
    "    # TRAINING ROUND\n",
    "    for i_train, data in enumerate(trainloader):\n",
    "         # zero the parameter gradients\n",
    "        optimizer.zero_grad()\n",
    "        \n",
    "        # get the inputs\n",
    "        inputs, labels = data\n",
    "        inputs = inputs.view(-1, 28,28) \n",
    "        if not inputs.size()[0] == 64:\n",
    "            continue\n",
    "        # forward + backward + optimize\n",
    "        outputs = model(inputs)\n",
    "\n",
    "        loss = criterion(outputs, labels)\n",
    "        loss.backward()\n",
    "        optimizer.step()\n",
    "\n",
    "        train_running_loss += loss.detach().item()\n",
    "        train_acc += get_accuracy(outputs, labels, BATCH_SIZE)\n",
    "         \n",
    "    model.eval()\n",
    "    test_acc = 0.0\n",
    "    for i_test, data in enumerate(testloader, 0):\n",
    "        inputs, labels = data\n",
    "        inputs = inputs.view(-1, 28, 28)\n",
    "        if not inputs.size()[0] == 64:\n",
    "            continue\n",
    "        outputs = model(inputs)\n",
    "\n",
    "        test_acc += get_accuracy(outputs, labels, BATCH_SIZE)\n",
    "\n",
    "    print('Epoch:  %d | Loss: %.4f | Train Accuracy: %.2f | Test Accuracy: %.2f' \n",
    "          %(epoch, train_running_loss / i_train, train_acc/i_train, test_acc/i_test))"
   ]
  },
  {
   "cell_type": "markdown",
   "metadata": {},
   "source": [
    "# Implementing LSTM\n",
    "Here we implement a LSTM using the LSTM cell we defined above. It takes number of time steps as the additional input to generate a sequential output given a sequential input.\n",
    "\n",
    "## Exercise 3 Please complete the forward pass of LSTM\n",
    "Hint: Remember unlike RNN, LSTM has two hidden variables : hidden state and cell state that are updated at every time point"
   ]
  },
  {
   "cell_type": "code",
   "execution_count": 12,
   "metadata": {},
   "outputs": [],
   "source": [
    "class LSTM(nn.Module):\n",
    "    def __init__(self, batch_size, input_dim, hidden_dim, time_steps):\n",
    "        super(LSTM, self).__init__()\n",
    "        self.time_steps = time_steps\n",
    "        self.lstm = LSTMCell(input_dim, hidden_dim)\n",
    "        self.hx = torch.zeros(batch_size, hidden_dim) # initialize hidden state\n",
    "        self.cx = torch.zeros(batch_size, hidden_dim) # initialize cell state\n",
    "        lstm_params = vars(self.lstm)\n",
    "         \n",
    "        for name, param in lstm_params.items():\n",
    "            if \"weights\" in name:\n",
    "                torch.nn.init.xavier_uniform(param)\n",
    "                \n",
    "    def forward(self, X, hx = None,cx = None):\n",
    "        output = []\n",
    "        # for each time step\n",
    "        if hx is not None:\n",
    "            self.hx = hx\n",
    "        if cx is not None:\n",
    "            self.cx = cx\n",
    "            \n",
    "        ################################## TODO: Run a for loop to update LSTM hidden and cell state ######################\n",
    "        ################################## Hint: take inspiration from how RNN hidden state was updated ################### \n",
    "        # Here we iterate over all time steps which are predefined by our data. Our data is of dimension \n",
    "        # (time_steps, batch_size, input_dim). So at each time step we look at our batch of data where each sample has \n",
    "        # input_dim amount of features and it is different at every time step.\n",
    "        # So the LSTM iterates over all time steps and takes these batches of samples X[i] alongside with the old state hx\n",
    "        # and the old cell state cx to produce a new state hx and a new cell state cx. Both of them have dimension \n",
    "        # (batch_size, hidden_dim) and are used to overwrite the old states. Finally, the new state hx is appended to our\n",
    "        # output list to store the current output of the respective time step.\n",
    "        for i in range(self.time_steps):\n",
    "            self.hx, self.cx = self.lstm(X[i], self.hx, self.cx)\n",
    "            output.append(self.hx)        \n",
    "        ###################################################################################################################\n",
    "        return output, self.hx"
   ]
  },
  {
   "cell_type": "markdown",
   "metadata": {},
   "source": [
    "# Defining ImageLSTM\n",
    "Here we take a 28 x 28 image as the input. At each time step the LSTM looks at one row making a total of 28 timesteps to look at full image. We apply a LSTM layer followed by a fully connected layer to do final classification."
   ]
  },
  {
   "cell_type": "code",
   "execution_count": 13,
   "metadata": {},
   "outputs": [],
   "source": [
    "class ImageLSTM(nn.Module):\n",
    "    def __init__(self, batch_size, n_steps, input_dim, hidden_dim, output_dim):\n",
    "        super(ImageLSTM, self).__init__()\n",
    "        \n",
    "        self.hidden_dim = hidden_dim\n",
    "        self.batch_size = batch_size\n",
    "        self.n_steps = n_steps\n",
    "        self.input_dim = input_dim\n",
    "        self.output_dim = output_dim\n",
    "        \n",
    "        self.basic_lstm = LSTM(self.batch_size,self.input_dim, self.hidden_dim,self.n_steps) \n",
    "        \n",
    "        self.FC = nn.Linear(self.hidden_dim, self.output_dim)\n",
    "        \n",
    "        \n",
    "    def forward(self, X):\n",
    "        # transforms X to dimensions: n_steps X batch_size X n_inputs\n",
    "        X = X.permute(1, 0, 2) \n",
    "        h = torch.zeros(self.batch_size, self.hidden_dim)\n",
    "        c = torch.zeros(self.batch_size, self.hidden_dim)\n",
    "        self.batch_size = X.size(1)\n",
    "        rnn_out, self.hidden = self.basic_lstm(X, hx= h, cx =c) \n",
    "        out = self.FC(self.hidden)\n",
    "        \n",
    "        return out.view(-1, self.output_dim) # batch_size X n_output"
   ]
  },
  {
   "cell_type": "markdown",
   "metadata": {},
   "source": [
    "# Setting up optimizer and cross entropy loss function"
   ]
  },
  {
   "cell_type": "code",
   "execution_count": 14,
   "metadata": {},
   "outputs": [
    {
     "name": "stderr",
     "output_type": "stream",
     "text": [
      "<ipython-input-12-00299144f0ec>:12: UserWarning: nn.init.xavier_uniform is now deprecated in favor of nn.init.xavier_uniform_.\n",
      "  torch.nn.init.xavier_uniform(param)\n"
     ]
    }
   ],
   "source": [
    "import torch.optim as optim\n",
    "\n",
    "# Device\n",
    "device = torch.device(\"cuda:0\" if torch.cuda.is_available() else \"cpu\")\n",
    "\n",
    "# Model instance\n",
    "model = ImageLSTM(BATCH_SIZE, N_STEPS, N_INPUTS, N_NEURONS, N_OUTPUTS)\n",
    "criterion = nn.CrossEntropyLoss()\n",
    "optimizer = optim.Adam(model.parameters(), lr=0.1)\n",
    "\n",
    "def get_accuracy(logit, target, batch_size):\n",
    "    ''' Obtain accuracy for training round '''\n",
    "    corrects = (torch.max(logit, 1)[1].view(target.size()).data == target.data).sum()\n",
    "    accuracy = 100.0 * corrects/batch_size\n",
    "    return accuracy.item()"
   ]
  },
  {
   "cell_type": "markdown",
   "metadata": {},
   "source": [
    "# Training Loop\n",
    "It run for N_EPOCHS and prints training and test accuracy after every epoch"
   ]
  },
  {
   "cell_type": "code",
   "execution_count": 15,
   "metadata": {},
   "outputs": [
    {
     "name": "stdout",
     "output_type": "stream",
     "text": [
      "Epoch:  0 | Loss: 1.2150 | Train Accuracy: 59.15 | Test Accuracy: 64.19\n",
      "Epoch:  1 | Loss: 1.0136 | Train Accuracy: 65.33 | Test Accuracy: 67.20\n",
      "Epoch:  2 | Loss: 0.9514 | Train Accuracy: 67.64 | Test Accuracy: 68.10\n",
      "Epoch:  3 | Loss: 0.9098 | Train Accuracy: 68.88 | Test Accuracy: 68.53\n",
      "Epoch:  4 | Loss: 0.8818 | Train Accuracy: 69.99 | Test Accuracy: 70.55\n",
      "Epoch:  5 | Loss: 0.8589 | Train Accuracy: 70.85 | Test Accuracy: 71.20\n",
      "Epoch:  6 | Loss: 0.8435 | Train Accuracy: 71.17 | Test Accuracy: 71.88\n",
      "Epoch:  7 | Loss: 0.8277 | Train Accuracy: 72.02 | Test Accuracy: 72.19\n",
      "Epoch:  8 | Loss: 0.8161 | Train Accuracy: 72.27 | Test Accuracy: 72.55\n",
      "Epoch:  9 | Loss: 0.8039 | Train Accuracy: 72.77 | Test Accuracy: 73.93\n"
     ]
    }
   ],
   "source": [
    "for epoch in range(N_EPOCHS):  # loop over the dataset multiple times\n",
    "    train_running_loss = 0.0\n",
    "    train_acc = 0.0\n",
    "    model.train()\n",
    "    \n",
    "    # TRAINING ROUND\n",
    "    for i_train, data in enumerate(trainloader):\n",
    "         # zero the parameter gradients\n",
    "        optimizer.zero_grad()\n",
    "        \n",
    "        # get the inputs\n",
    "        inputs, labels = data\n",
    "        inputs = inputs.view(-1, 28,28) \n",
    "        if not inputs.size()[0] == 64:\n",
    "            continue\n",
    "        # forward + backward + optimize\n",
    "        outputs = model(inputs)\n",
    "        loss = criterion(outputs, labels)\n",
    "        loss.backward()\n",
    "        optimizer.step()\n",
    "\n",
    "        train_running_loss += loss.detach().item()\n",
    "        train_acc += get_accuracy(outputs, labels, BATCH_SIZE)\n",
    "         \n",
    "    model.eval()\n",
    "    test_acc = 0.0\n",
    "    for i_test, data in enumerate(testloader, 0):\n",
    "        inputs, labels = data\n",
    "        inputs = inputs.view(-1, 28, 28)\n",
    "        if not inputs.size()[0] == 64:\n",
    "            continue\n",
    "        outputs = model(inputs)\n",
    "\n",
    "        test_acc += get_accuracy(outputs, labels, BATCH_SIZE)\n",
    "\n",
    "    print('Epoch:  %d | Loss: %.4f | Train Accuracy: %.2f | Test Accuracy: %.2f' \n",
    "          %(epoch, train_running_loss / i_train, train_acc/i_train, test_acc/i_test))"
   ]
  },
  {
   "cell_type": "markdown",
   "metadata": {},
   "source": [
    "# Summary \n",
    "In this assignment we implemented the forward pass of RNN and LSTM using pytorch. In practice, you do not need to implement these layers as pytorch already provides implementation of these two and other recurrent layers such as GRU. In fact, if you might get higher accuracy by replacing implemented version with pytorch version of RNNs and LSTMs due to better initialization. Please feel free to experiment and write your observations in the extra cell provided below.  \n",
    "\n",
    "## Exercise 4\n",
    "You might have observed that LSTM slightly outperforms RNN in the above example. In the lecture we briefly discussed why LSTM mitigates the issue of vanishing gradients using the gates. Please go through the following links for more details and answer succintly either mathematically or conceptually why LSTMs do not face the issue of vanishing gradients.\n",
    "\n",
    "1. [Understanding LSTM Networks](https://colah.github.io/posts/2015-08-Understanding-LSTMs/)\n",
    "2. [Understanding, Deriving and Extending the LSTM](https://r2rt.com/written-memories-understanding-deriving-and-extending-the-lstm.html)\n",
    "3. [Why LSTMs Stop Your Gradients From Vanishing](https://weberna.github.io/blog/2017/11/15/LSTM-Vanishing-Gradients.html)\n",
    "4. [cs224 slides on LSTM](https://web.stanford.edu/class/cs224n/slides/cs224n-2019-lecture07-fancy-rnn.pdf)\n",
    "\n",
    "## Your Answer:\n",
    "Simillary to deep NN, the simple RNN architecture also suffers from the problem of vanishing gradients. Upon training such networks by applying backprop through time to calculate the gradient of the loss function with respect to an earlier state of the RNN $\\frac{∂E}{∂h_{1}}$ we can examine that we have to repeatedly multiply the local gradients (of subsequent states) $\\frac{∂h_t}{∂h_{t−1}}$ with the same weight matrix $W_R$, which was used in the forward pass to calculate the new state of the RNN by multiplying it with the old state $h_t = tanh(W_I*x_t + W_R*h_{t-1})$. The gradient looks like this: $\\frac{∂h_k}{∂h_1}=\\prod_i^k diag(f'(W_I*x_i + W_R*h_{i-1}))*W_R$. This repeated multiplication with the same weight matrix $W_R$ can pose a risk since if the weight matrix is small (largest eigenvalues < 1), then the backpropagated gradient gets vanishingly smaller as it is further backpropagated to the earlier layers. \"In vanilla RNNs, the terms $\\frac{∂h_t}{∂h_{t−1}}$ will eventually take on a values that are either always above 1 or always in the range [0,1], this is essentially what leads to the vanishing/exploding gradient problem.\" [ https://weberna.github.io/blog/2017/11/15/LSTM-Vanishing-Gradients.html ] This results in a poor training/learning ability of layers which are near the input and ultimately results in the network not remembering previous information and poor performance. \n",
    "\n",
    "\n",
    "\n",
    "LSTMs mitigate this problem by implementing a \"Long short-term memory\" called the cell state. It is used to store information and it is being controlled by the so called gates. We have a forget gate which decides which information is being removed from the memory, we have an input gate which decided which information is being stored in the memory and lastly we have an output gate which decides which information is being outputed from the memory. The important aspect when training these networks is the cell state which is crucial in order to calculate the gradients. When applying backprop to LSTMs we will need to compute the gradients of new cell states with respect to old cell states in order to backprop the gradient to the earlier layers. We know that the new cell state is defined by two terms which are added together. The element-wise multiplication of the old cell state and the forget gate $f*C_{t-1}$ (which basically drops some information), and the element-wise multiplication of the candidate cell state and the input gate $i*\\tilde{C_t}$ (which basically decides which new information should be stored). Each of these functions is a function of $C_{t-1}$, because they are calculated from $h_{t-1}$. If we now calculate the gradient we get the following term: $\\frac{∂C_t}{∂C_{t−1}} = (\\frac{∂C_t}{∂f_{t}}*\\frac{∂f_t}{∂h_{t−1}}*\\frac{∂h_{t-1}}{∂C_{t−1}}) + (\\frac{∂C_t}{∂i_{t}}*\\frac{∂i_t}{∂h_{t−1}}*\\frac{∂h_{t-1}}{∂C_{t−1}}) + (\\frac{∂C_t}{∂\\tilde{C_t}}*\\frac{∂\\tilde{C_t}}{∂h_{t−1}}*\\frac{∂h_{t-1}}{∂C_{t−1}}) + \\frac{∂C_t}{∂C_{t-1}}$\n",
    "If we now derive these gradients we can clearly see that we do not have a weight matrix which is repeatedly applied anymore, but rather different terms which can at any time step either take values that are greater than 1 or values in the range [0,1]. Unlike the vanilla RNN where the repeated multiplication by $W_R$ forces the gradient to either converge to zero or infinity, there is nothing that would force this behaviour in a LSTM. "
   ]
  },
  {
   "cell_type": "markdown",
   "metadata": {},
   "source": [
    "# Further Readings:\n",
    "\n",
    "Recently for modelling sequences as well as images attention models have become more popular and have outperformed LSTMs and CNNs. If you are interested you may go through these blog posts.\n",
    "1. [Attention models](https://lilianweng.github.io/lil-log/2018/06/24/attention-attention.html)\n",
    "2. [Transformer family](https://lilianweng.github.io/lil-log/2020/04/07/the-transformer-family.html)"
   ]
  },
  {
   "cell_type": "markdown",
   "metadata": {},
   "source": [
    "# Observations:\n",
    "Feel free to write about your observations in the above tutorial. Leaving this cell empty is also fine as this is not used for grading.\n",
    "\n",
    "## Your answer:\n",
    "I found it very interesting how we can use RNNs to do tasks like handwriting recognition on the MNIST dataset. The approach is much different because we do not use our data like we did in our CNNs, where the input is basically a matrix containing a batch of different image samples. In the RNN we had to transform this input so that the batch only contains one vector of the image (one row of pixel values), so that we had many batches which represented our initial input from the CNN. So instead of inputing a batch of images we rather input a whole set of batches, where each batch contains one row of pixel values from the same sample (a small portion of the image). The RNN actually manages to learn the previous portions of the image and to remember them so it can classify it at the end."
   ]
  },
  {
   "cell_type": "markdown",
   "metadata": {},
   "source": [
    "# Credits\n",
    "This assignment is based on this [blog post](https://medium.com/dair-ai/building-rnns-is-fun-with-pytorch-and-google-colab-3903ea9a3a79)  explaining how to use LSTMs for MNIST digit classification \n",
    "\n"
   ]
  }
 ],
 "metadata": {
  "kernelspec": {
   "display_name": "Python 3",
   "language": "python",
   "name": "python3"
  },
  "language_info": {
   "codemirror_mode": {
    "name": "ipython",
    "version": 3
   },
   "file_extension": ".py",
   "mimetype": "text/x-python",
   "name": "python",
   "nbconvert_exporter": "python",
   "pygments_lexer": "ipython3",
   "version": "3.8.3"
  }
 },
 "nbformat": 4,
 "nbformat_minor": 2
}
